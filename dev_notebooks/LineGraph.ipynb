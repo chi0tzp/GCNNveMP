{
 "cells": [
  {
   "cell_type": "code",
   "execution_count": 54,
   "metadata": {},
   "outputs": [],
   "source": [
    "import torch\n",
    "import torch.nn as tnn\n",
    "from torch_geometric.data import Data as gData\n",
    "from torch_geometric.data import Batch as gBatch\n",
    "from torch_geometric.transforms import LineGraph\n",
    "import torch_geometric.nn as gnn\n",
    "from torch_geometric.utils import to_networkx\n",
    "import networkx as nx\n",
    "import matplotlib.pyplot as plt\n",
    "import numpy as np\n",
    "import cmath"
   ]
  },
  {
   "cell_type": "code",
   "execution_count": 55,
   "metadata": {},
   "outputs": [],
   "source": [
    "num_nodes = 4\n",
    "num_in_node_features = 16\n",
    "num_out_node_features = 64\n",
    "num_in_edge_features = 4\n",
    "num_out_edge_features = 8"
   ]
  },
  {
   "cell_type": "code",
   "execution_count": 56,
   "metadata": {},
   "outputs": [],
   "source": [
    "# Define batch of example graph\n",
    "edge_index = torch.tensor([[0, 1, 2, 0, 3, 2, 3, 0],\n",
    "                           [1, 0, 0, 2, 2, 3, 0, 3]], dtype=torch.long)"
   ]
  },
  {
   "cell_type": "code",
   "execution_count": 57,
   "metadata": {},
   "outputs": [],
   "source": [
    "# Node batch features\n",
    "x = torch.randn((num_nodes, num_in_node_features), dtype=torch.float)\n",
    "\n",
    "# Edge batch features -- batch_edge_features has shape: torch.Size([4, 42, 8])\n",
    "edge_attr = torch.randn((edge_index.size(1), num_in_edge_features), dtype=torch.float)"
   ]
  },
  {
   "cell_type": "code",
   "execution_count": 59,
   "metadata": {},
   "outputs": [],
   "source": [
    "graph = gData(x=x, edge_index=edge_index, edge_attr=edge_attr)"
   ]
  },
  {
   "cell_type": "code",
   "execution_count": 60,
   "metadata": {},
   "outputs": [],
   "source": [
    "graph_l = LineGraph()(graph)"
   ]
  },
  {
   "cell_type": "code",
   "execution_count": 61,
   "metadata": {},
   "outputs": [
    {
     "data": {
      "text/plain": [
       "Data(edge_index=[2, 18], x=[8, 4])"
      ]
     },
     "execution_count": 61,
     "metadata": {},
     "output_type": "execute_result"
    }
   ],
   "source": [
    "graph_l"
   ]
  },
  {
   "cell_type": "code",
   "execution_count": 62,
   "metadata": {},
   "outputs": [
    {
     "data": {
      "text/plain": [
       "Data(edge_index=[2, 18], x=[8, 4])"
      ]
     },
     "execution_count": 62,
     "metadata": {},
     "output_type": "execute_result"
    }
   ],
   "source": [
    "graph"
   ]
  },
  {
   "cell_type": "code",
   "execution_count": 66,
   "metadata": {},
   "outputs": [
    {
     "name": "stdout",
     "output_type": "stream",
     "text": [
      "original Data(edge_attr=[12], edge_index=[2, 12], x=[5, 27])\n",
      "line Data(edge_index=[2, 18], x=[6])\n"
     ]
    }
   ],
   "source": [
    "edge_index = torch.tensor([[0, 0, 0, 1, 1, 2, 2, 3, 3, 3, 4, 4],\n",
    "                           [1, 2, 3, 0, 4, 0, 3, 0, 2, 4, 1, 3]])\n",
    "edge_attr = torch.ones(edge_index.size(1))\n",
    "\n",
    "num_nodes = 5\n",
    "x = torch.rand(num_nodes, 27)\n",
    "data = gData(edge_index=edge_index, edge_attr=edge_attr, x=x)\n",
    "print('original', data)\n",
    "\n",
    "data = LineGraph()(data)\n",
    "print('line', data)\n",
    "\n",
    "assert data.edge_index.max().item() + 1 == data.x.size(0)\n",
    "assert data.edge_index.tolist() == [\n",
    "        [0, 0, 0, 1, 1, 1, 2, 2, 2, 2, 3, 3, 4, 4, 4, 5, 5, 5],\n",
    "        [1, 2, 3, 0, 2, 4, 0, 1, 4, 5, 0, 5, 1, 2, 5, 2, 3, 4]]\n",
    "assert data.x.tolist() == [2, 2, 2, 2, 2, 2]\n",
    "assert data.num_nodes == data.edge_index.max().item() + 1"
   ]
  },
  {
   "cell_type": "code",
   "execution_count": null,
   "metadata": {},
   "outputs": [],
   "source": []
  }
 ],
 "metadata": {
  "kernelspec": {
   "display_name": "Python 3",
   "language": "python",
   "name": "python3"
  },
  "language_info": {
   "codemirror_mode": {
    "name": "ipython",
    "version": 3
   },
   "file_extension": ".py",
   "mimetype": "text/x-python",
   "name": "python",
   "nbconvert_exporter": "python",
   "pygments_lexer": "ipython3",
   "version": "3.8.2"
  }
 },
 "nbformat": 4,
 "nbformat_minor": 2
}
