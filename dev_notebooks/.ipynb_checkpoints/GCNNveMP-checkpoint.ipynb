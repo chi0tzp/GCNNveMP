{
 "cells": [
  {
   "cell_type": "code",
   "execution_count": 13,
   "metadata": {},
   "outputs": [],
   "source": [
    "import torch\n",
    "import torch.nn as tnn\n",
    "from torch_geometric.data import Data as gData\n",
    "from torch_geometric.data import Batch as gBatch\n",
    "import torch_geometric.nn as gnn\n",
    "from torch_geometric.utils import to_networkx\n",
    "import networkx as nx\n",
    "import matplotlib.pyplot as plt\n",
    "import numpy as np\n",
    "import cmath"
   ]
  },
  {
   "cell_type": "code",
   "execution_count": 28,
   "metadata": {},
   "outputs": [],
   "source": [
    "batch_size = 16\n",
    "num_nodes = 4\n",
    "num_in_node_features = 16\n",
    "num_out_node_features = 64\n",
    "num_in_edge_features = 4\n",
    "num_out_edge_features = 8"
   ]
  },
  {
   "cell_type": "code",
   "execution_count": 29,
   "metadata": {},
   "outputs": [],
   "source": [
    "# Define batch of example graph\n",
    "edge_index = torch.tensor([[0, 1, 2, 0, 3, 2, 3, 0],\n",
    "                           [1, 0, 0, 2, 2, 3, 0, 3]], dtype=torch.long)"
   ]
  },
  {
   "cell_type": "code",
   "execution_count": 30,
   "metadata": {},
   "outputs": [],
   "source": [
    "# Node batch features\n",
    "batch_x = torch.randn((batch_size, num_nodes, num_in_node_features), dtype=torch.float)\n",
    "\n",
    "# Edge batch features -- batch_edge_features has shape: torch.Size([4, 42, 8])\n",
    "batch_edge_attr = torch.randn((batch_size, edge_index.size(1), num_in_edge_features), dtype=torch.float)\n",
    "\n",
    "# Wrap input node and edge features (along with edge_index) into a `torch_geometric.data.Batch` instance\n",
    "l = []\n",
    "for i in range(batch_size):\n",
    "    l.append(gData(x=batch_x[i], edge_index=edge_index, edge_attr=batch_edge_attr[i]))\n",
    "batch = gBatch.from_data_list(l)\n",
    "\n",
    "# batch.x          -- size:  [batch_size * num_nodes = 64, num_in_node_features = 16]\n",
    "# batch.edge_index -- shape: [2, batch_size * edge_index.size(1) = 128]\n",
    "# batch.edge_attr  -- shape: [batch_size * edge_index.size(1) = 128, num_in_edge_features = 4]"
   ]
  },
  {
   "cell_type": "code",
   "execution_count": 7,
   "metadata": {},
   "outputs": [],
   "source": [
    "\n",
    "# Define NNConv layer\n",
    "nn = tnn.Sequential(tnn.Linear(num_in_edge_features, 25), tnn.ReLU(),\n",
    "                    tnn.Linear(25, num_in_node_features * num_out_node_features))\n",
    "gconv = gnn.NNConv(in_channels=num_in_node_features, out_channels=num_out_node_features, nn=nn, aggr='mean')\n",
    "\n",
    "# Forward pass\n",
    "y = gconv(x=batch.x, edge_index=batch.edge_index, edge_attr=batch.edge_attr)"
   ]
  },
  {
   "cell_type": "code",
   "execution_count": null,
   "metadata": {},
   "outputs": [],
   "source": []
  }
 ],
 "metadata": {
  "kernelspec": {
   "display_name": "Python 3",
   "language": "python",
   "name": "python3"
  },
  "language_info": {
   "codemirror_mode": {
    "name": "ipython",
    "version": 3
   },
   "file_extension": ".py",
   "mimetype": "text/x-python",
   "name": "python",
   "nbconvert_exporter": "python",
   "pygments_lexer": "ipython3",
   "version": "3.8.2"
  }
 },
 "nbformat": 4,
 "nbformat_minor": 2
}
